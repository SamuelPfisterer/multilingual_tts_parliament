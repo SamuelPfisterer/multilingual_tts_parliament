{
 "cells": [
  {
   "cell_type": "code",
   "execution_count": 1,
   "metadata": {},
   "outputs": [],
   "source": [
    "import pandas as pd\n",
    "import glob\n",
    "import os\n",
    "\n",
    "# Define the path pattern for your CSV files\n",
    "# Adjust the path according to your folder structure\n",
    "path = 'results/*media_links*.csv'  # This will match all CSVs with 'media_links' in their name\n",
    "\n",
    "# Create an empty list to store individual DataFrames\n",
    "dfs = []\n",
    "\n",
    "# Loop through all matching CSV files\n",
    "for file in glob.glob(path):\n",
    "    # Read each CSV file\n",
    "    df = pd.read_csv(file)\n",
    "    \n",
    "    # Optionally add a column to identify the source file\n",
    "    df['source_file'] = os.path.basename(file)\n",
    "    \n",
    "    # Append to our list\n",
    "    dfs.append(df)\n",
    "\n",
    "# Combine all DataFrames into one\n",
    "combined_df = pd.concat(dfs, ignore_index=True)\n",
    "\n",
    "# Optionally remove duplicates if any\n",
    "combined_df = combined_df.drop_duplicates()\n"
   ]
  },
  {
   "cell_type": "code",
   "execution_count": 8,
   "metadata": {},
   "outputs": [
    {
     "name": "stdout",
     "output_type": "stream",
     "text": [
      "Filtered dataset saved to: results/mp4_media_links.csv\n",
      "Total rows in filtered dataset: 59186\n",
      "\n",
      "First few rows of the filtered dataset:\n",
      "         transcript_id                                     mp4_video_link\n",
      "0  149_20190318T144449  https://vod.althingi.is/upptokur/old/20190318T...\n",
      "1  149_20190318T144901  https://vod.althingi.is/upptokur/old/20190318T...\n",
      "2  149_20190320T152530  https://vod.althingi.is/upptokur/old/20190320T...\n",
      "3  149_20190320T165429  https://vod.althingi.is/upptokur/old/20190320T...\n",
      "4  149_20190320T165846  https://vod.althingi.is/upptokur/old/20190320T...\n"
     ]
    }
   ],
   "source": [
    "# Filter the DataFrame to include only rows with an mp4 link\n",
    "mp4_df = combined_df[combined_df['mp4_url'].notna()]\n",
    "\n",
    "# Rename columns to match the required format\n",
    "mp4_df = mp4_df.rename(columns={\n",
    "    'transcript_unique_id': 'transcript_id',\n",
    "    'mp4_url': 'mp4_video_link'\n",
    "})\n",
    "\n",
    "# Add missing columns with None values\n",
    "\n",
    "\n",
    "# Reorder columns to match the required format\n",
    "mp4_df = mp4_df[['transcript_id', 'mp4_video_link'\n",
    "]]\n",
    "\n",
    "# Save the filtered DataFrame to a new CSV file\n",
    "output_path_mp4 = 'results/mp4_media_links.csv'\n",
    "mp4_df.to_csv(output_path_mp4, index=False)\n",
    "\n",
    "# Print some information about the result\n",
    "print(f\"Filtered dataset saved to: {output_path_mp4}\")\n",
    "print(f\"Total rows in filtered dataset: {len(mp4_df)}\")\n",
    "\n",
    "# Display the first few rows of the filtered dataset\n",
    "print(\"\\nFirst few rows of the filtered dataset:\")\n",
    "print(mp4_df.head())\n"
   ]
  },
  {
   "cell_type": "code",
   "execution_count": 10,
   "metadata": {},
   "outputs": [
    {
     "name": "stdout",
     "output_type": "stream",
     "text": [
      "Filtered Danish dataset saved to: links/danish_mp4_media_links_since_2018.csv\n",
      "Total rows in filtered Danish dataset: 59186\n",
      "\n",
      "First few rows of the filtered Danish dataset:\n",
      "         transcript_id                                     mp4_video_link\n",
      "0  149_20190318T144449  https://vod.althingi.is/upptokur/old/20190318T...\n",
      "1  149_20190318T144901  https://vod.althingi.is/upptokur/old/20190318T...\n",
      "2  149_20190320T152530  https://vod.althingi.is/upptokur/old/20190320T...\n",
      "3  149_20190320T165429  https://vod.althingi.is/upptokur/old/20190320T...\n",
      "4  149_20190320T165846  https://vod.althingi.is/upptokur/old/20190320T...\n"
     ]
    }
   ],
   "source": [
    "# Filter the DataFrame to include only rows with an mp4 link since 2018\n",
    "danish_mp4_df = combined_df[(combined_df['mp4_url'].notna())]\n",
    "\n",
    "# Rename columns to match the required format\n",
    "danish_mp4_df = danish_mp4_df.rename(columns={\n",
    "    'transcript_unique_id': 'transcript_id',\n",
    "    'mp4_url': 'mp4_video_link'\n",
    "})\n",
    "\n",
    "\n",
    "\n",
    "# Reorder columns to match the required format\n",
    "danish_mp4_df = danish_mp4_df[['transcript_id', 'mp4_video_link']]\n",
    "\n",
    "\n",
    "\n",
    "# Save the filtered DataFrame to a new CSV file\n",
    "output_path_danish_mp4 = 'links/danish_mp4_media_links_since_2018.csv'\n",
    "danish_mp4_df.to_csv(output_path_danish_mp4, index=False)\n",
    "\n",
    "# Print some information about the result\n",
    "print(f\"Filtered Danish dataset saved to: {output_path_danish_mp4}\")\n",
    "print(f\"Total rows in filtered Danish dataset: {len(danish_mp4_df)}\")\n",
    "\n",
    "# Display the first few rows of the filtered Danish dataset\n",
    "print(\"\\nFirst few rows of the filtered Danish dataset:\")\n",
    "print(danish_mp4_df.head())\n"
   ]
  },
  {
   "cell_type": "code",
   "execution_count": 2,
   "metadata": {},
   "outputs": [
    {
     "name": "stdout",
     "output_type": "stream",
     "text": [
      "Number of rows with an mp4 link: 59186\n",
      "Number of rows with an mp3 link: 59350\n"
     ]
    }
   ],
   "source": [
    "# Count the number of rows with an mp4 link\n",
    "num_mp4_links = combined_df['mp4_url'].notna().sum()\n",
    "\n",
    "# Count the number of rows with an mp3 link\n",
    "num_mp3_links = combined_df['mp3_url'].notna().sum()\n",
    "\n",
    "# Print the results\n",
    "print(f\"Number of rows with an mp4 link: {num_mp4_links}\")\n",
    "print(f\"Number of rows with an mp3 link: {num_mp3_links}\")\n"
   ]
  },
  {
   "cell_type": "code",
   "execution_count": null,
   "metadata": {},
   "outputs": [],
   "source": [
    "# Save the combined DataFrame to a new CSV file\n",
    "output_path = 'results/media_links_00000-63720.csv'\n",
    "combined_df.to_csv(output_path, index=False)\n",
    "\n",
    "# Print some information about the result\n",
    "print(f\"Combined {len(dfs)} files\")\n",
    "print(f\"Total rows in combined dataset: {len(combined_df)}\")\n",
    "print(f\"Output saved to: {output_path}\")\n",
    "\n",
    "# Display the first few rows\n",
    "print(\"\\nFirst few rows of the combined dataset:\")\n",
    "print(combined_df.head())"
   ]
  }
 ],
 "metadata": {
  "kernelspec": {
   "display_name": "Python (video-processing)",
   "language": "python",
   "name": "video_processing"
  },
  "language_info": {
   "codemirror_mode": {
    "name": "ipython",
    "version": 3
   },
   "file_extension": ".py",
   "mimetype": "text/x-python",
   "name": "python",
   "nbconvert_exporter": "python",
   "pygments_lexer": "ipython3",
   "version": "3.8.20"
  }
 },
 "nbformat": 4,
 "nbformat_minor": 2
}
