{
 "cells": [
  {
   "cell_type": "code",
   "execution_count": 2,
   "metadata": {},
   "outputs": [],
   "source": [
    "import cloudscraper\n",
    "import time\n",
    "\n",
    "def test_access():\n",
    "    scraper = cloudscraper.create_scraper(\n",
    "        browser={\n",
    "            'browser': 'chrome',\n",
    "            'platform': 'windows',\n",
    "            'mobile': False\n",
    "        }\n",
    "    )\n",
    "    \n",
    "    # Test URL (use one that worked before)\n",
    "    test_url = \"https://www.althingi.is/altext/raeda/149/rad20181211T135907.html\"\n",
    "    \n",
    "    print(\"Testing access...\")\n",
    "    response = scraper.get(test_url)\n",
    "    print(f\"Status code: {response.status_code}\")\n",
    "    \n",
    "    if 'raeda_efni' in response.text:\n",
    "        print(\"Transcript div found!\")\n",
    "    else:\n",
    "        print(\"Transcript div not found!\")\n",
    "        print(\"First 500 chars of response:\")\n",
    "        print(response.text[:500])"
   ]
  },
  {
   "cell_type": "code",
   "execution_count": 3,
   "metadata": {},
   "outputs": [
    {
     "name": "stdout",
     "output_type": "stream",
     "text": [
      "Testing access...\n",
      "Status code: 200\n",
      "Transcript div found!\n"
     ]
    }
   ],
   "source": [
    "test_access()"
   ]
  },
  {
   "cell_type": "code",
   "execution_count": 4,
   "metadata": {},
   "outputs": [],
   "source": [
    "import pandas as pd\n",
    "import glob\n",
    "import os\n",
    "\n",
    "def combine_and_analyze_results():\n",
    "    \"\"\"Combine all results and identify failed links\"\"\"\n",
    "    # Combine all failed results\n",
    "    failed_files = glob.glob('results/failed_*.csv')\n",
    "    failed_df = pd.concat([pd.read_csv(f) for f in failed_files])\n",
    "    \n",
    "    # Save all failed links\n",
    "    failed_df.to_csv('all_failed_links.csv', index=False)\n",
    "    \n",
    "    print(f\"Total failed links: {len(failed_df)}\")\n",
    "    return failed_df"
   ]
  },
  {
   "cell_type": "code",
   "execution_count": 5,
   "metadata": {},
   "outputs": [
    {
     "name": "stdout",
     "output_type": "stream",
     "text": [
      "Total failed links: 63720\n"
     ]
    }
   ],
   "source": [
    "failed_df = combine_and_analyze_results()"
   ]
  },
  {
   "cell_type": "code",
   "execution_count": 9,
   "metadata": {},
   "outputs": [
    {
     "data": {
      "text/html": [
       "<div>\n",
       "<style scoped>\n",
       "    .dataframe tbody tr th:only-of-type {\n",
       "        vertical-align: middle;\n",
       "    }\n",
       "\n",
       "    .dataframe tbody tr th {\n",
       "        vertical-align: top;\n",
       "    }\n",
       "\n",
       "    .dataframe thead th {\n",
       "        text-align: right;\n",
       "    }\n",
       "</style>\n",
       "<table border=\"1\" class=\"dataframe\">\n",
       "  <thead>\n",
       "    <tr style=\"text-align: right;\">\n",
       "      <th></th>\n",
       "      <th>transcript_unique_id</th>\n",
       "      <th>transcript_url</th>\n",
       "      <th>error</th>\n",
       "    </tr>\n",
       "  </thead>\n",
       "  <tbody>\n",
       "    <tr>\n",
       "      <th>0</th>\n",
       "      <td>154_20231109T103204</td>\n",
       "      <td>https://www.althingi.is/altext/raeda/154/rad20...</td>\n",
       "      <td>No 'Horfa' link found</td>\n",
       "    </tr>\n",
       "    <tr>\n",
       "      <th>1</th>\n",
       "      <td>154_20231109T103232</td>\n",
       "      <td>https://www.althingi.is/altext/raeda/154/rad20...</td>\n",
       "      <td>No 'Horfa' link found</td>\n",
       "    </tr>\n",
       "    <tr>\n",
       "      <th>2</th>\n",
       "      <td>154_20231109T103256</td>\n",
       "      <td>https://www.althingi.is/altext/raeda/154/rad20...</td>\n",
       "      <td>No 'Horfa' link found</td>\n",
       "    </tr>\n",
       "    <tr>\n",
       "      <th>3</th>\n",
       "      <td>154_20231113T123110</td>\n",
       "      <td>https://www.althingi.is/altext/raeda/154/rad20...</td>\n",
       "      <td>No 'Horfa' link found</td>\n",
       "    </tr>\n",
       "    <tr>\n",
       "      <th>4</th>\n",
       "      <td>154_20231113T123136</td>\n",
       "      <td>https://www.althingi.is/altext/raeda/154/rad20...</td>\n",
       "      <td>No 'Horfa' link found</td>\n",
       "    </tr>\n",
       "  </tbody>\n",
       "</table>\n",
       "</div>"
      ],
      "text/plain": [
       "  transcript_unique_id                                     transcript_url  \\\n",
       "0  154_20231109T103204  https://www.althingi.is/altext/raeda/154/rad20...   \n",
       "1  154_20231109T103232  https://www.althingi.is/altext/raeda/154/rad20...   \n",
       "2  154_20231109T103256  https://www.althingi.is/altext/raeda/154/rad20...   \n",
       "3  154_20231113T123110  https://www.althingi.is/altext/raeda/154/rad20...   \n",
       "4  154_20231113T123136  https://www.althingi.is/altext/raeda/154/rad20...   \n",
       "\n",
       "                   error  \n",
       "0  No 'Horfa' link found  \n",
       "1  No 'Horfa' link found  \n",
       "2  No 'Horfa' link found  \n",
       "3  No 'Horfa' link found  \n",
       "4  No 'Horfa' link found  "
      ]
     },
     "execution_count": 9,
     "metadata": {},
     "output_type": "execute_result"
    }
   ],
   "source": [
    "failed_df.head()"
   ]
  },
  {
   "cell_type": "code",
   "execution_count": 10,
   "metadata": {},
   "outputs": [
    {
     "name": "stdout",
     "output_type": "stream",
     "text": [
      "Total successful media links: 9205\n",
      "Total successful transcripts: 9205\n"
     ]
    }
   ],
   "source": [
    "# combine_successful.py\n",
    "import pandas as pd\n",
    "import glob\n",
    "\n",
    "# Combine all media links\n",
    "media_files = glob.glob('results/media_links_*.csv')\n",
    "media_df = pd.concat([pd.read_csv(f) for f in media_files])\n",
    "media_df.to_csv('all_successful_media_links.csv', index=False)\n",
    "\n",
    "# Combine all transcripts\n",
    "transcript_files = glob.glob('results/transcripts_*.csv')\n",
    "transcript_df = pd.concat([pd.read_csv(f) for f in transcript_files])\n",
    "transcript_df.to_csv('all_successful_transcripts.csv', index=False)\n",
    "\n",
    "print(f\"Total successful media links: {len(media_df)}\")\n",
    "print(f\"Total successful transcripts: {len(transcript_df)}\")"
   ]
  }
 ],
 "metadata": {
  "kernelspec": {
   "display_name": "Video Processing",
   "language": "python",
   "name": "video_processing"
  }
 },
 "nbformat": 4,
 "nbformat_minor": 2
}
